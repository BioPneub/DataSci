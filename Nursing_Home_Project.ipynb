{
 "cells": [
  {
   "cell_type": "code",
   "execution_count": 2,
   "id": "be0aefe1",
   "metadata": {},
   "outputs": [],
   "source": [
    "import pandas as pd\n",
    "import requests as rq\n",
    "import json\n",
    "import glob"
   ]
  },
  {
   "cell_type": "code",
   "execution_count": null,
   "id": "7b80cc71",
   "metadata": {},
   "outputs": [],
   "source": [
    "#dont need this. Trying to read in the data this way would take hours. better off just downloading the data. Use glob.\n",
    "\n",
    "#url = 'https://data.cms.gov/data-api/v1/dataset/ae89f796-f854-4489-992f-ea1db0b4353a/data?size=0&offset=0'\n",
    "\n",
    "#nursing_home_df = pd.read_json(url)\n",
    "#nursing_home_df\n",
    "\n",
    "#offset = 0\n",
    "#size = 5000\n",
    "#while offset <= 1331186:\n",
    "    #url_appended = 'https://data.cms.gov/data-api/v1/dataset/ae89f796-f854-4489-992f-ea1db0b4353a/data?size=5000&offset=' + str(offset)\n",
    "    #read_url = pd.read_json(url_appended)\n",
    "    #nursing_home_df.append(read_url)\n",
    "    #offset = offset + size\n",
    "    #print(offset)\n",
    "    \n",
    "#nursing_home_df.size"
   ]
  },
  {
   "cell_type": "code",
   "execution_count": null,
   "id": "00f64fb1",
   "metadata": {},
   "outputs": [],
   "source": [
    "nursing_files = glob.glob('C:/Users/bobom/Desktop/Coursera/Nursing_Home_Data/*/*.csv',recursive=True)\n",
    "\n",
    "nursing_df = pd.DataFrame()\n",
    "\n",
    "for files in nursing_files: #This is returning an empty df.....\n",
    "    pd.read_csv(files) #Not sure what to do here... https://www.roelpeters.be/solved-dtypewarning-columns-have-mixed-types-specify-dtype-option-on-import-or-set-low-memory-in-pandas/\n",
    "    pd.concat([nursing_df, files])\n",
    "        \n",
    "\n",
    "    "
   ]
  },
  {
   "cell_type": "code",
   "execution_count": 12,
   "id": "3ee3b1be",
   "metadata": {
    "scrolled": true
   },
   "outputs": [
    {
     "name": "stdout",
     "output_type": "stream",
     "text": [
      "['C:/Users/bobom/Desktop/Coursera/Nursing_Home_Data\\\\COVID-19 Nursing Home Data 01.02.2022\\\\COVID-19 Nursing Home Data 01.02.2022.csv', 'C:/Users/bobom/Desktop/Coursera/Nursing_Home_Data\\\\COVID-19 Nursing Home Data 01.09.2022\\\\COVID-19 Nursing Home Data 01.09.2022.csv', 'C:/Users/bobom/Desktop/Coursera/Nursing_Home_Data\\\\COVID-19 Nursing Home Data 06 27 21\\\\faclevel_06.27.2021.csv', 'C:/Users/bobom/Desktop/Coursera/Nursing_Home_Data\\\\COVID-19 Nursing Home Data 07.04.2021\\\\faclevel_07.04.2021thru07.04.2021.csv', 'C:/Users/bobom/Desktop/Coursera/Nursing_Home_Data\\\\COVID-19 Nursing Home Data 08.15.2021\\\\COVID-19 Nursing Home Data 08.15.2021.csv', 'C:/Users/bobom/Desktop/Coursera/Nursing_Home_Data\\\\COVID-19 Nursing Home Data 08.22.2021\\\\COVID-19 Nursing Home Data 08.22.2021.csv', 'C:/Users/bobom/Desktop/Coursera/Nursing_Home_Data\\\\COVID-19 Nursing Home Data 08.29.2021\\\\COVID-19 Nursing Home Data 08.29.2021.csv', 'C:/Users/bobom/Desktop/Coursera/Nursing_Home_Data\\\\COVID-19 Nursing Home Data 09.05.2021\\\\COVID-19 Nursing Home Data 09.05.2021.csv', 'C:/Users/bobom/Desktop/Coursera/Nursing_Home_Data\\\\COVID-19 Nursing Home Data 09.12.2021\\\\COVID-19 Nursing Home Data 09.12.2021.csv', 'C:/Users/bobom/Desktop/Coursera/Nursing_Home_Data\\\\COVID-19 Nursing Home Data 09.19.2021\\\\faclevel_09.19.2021thru09.19.2021.csv', 'C:/Users/bobom/Desktop/Coursera/Nursing_Home_Data\\\\COVID-19 Nursing Home Data 09.26.2021\\\\COVID-19 Nursing Home Data 09.26.2021.csv', 'C:/Users/bobom/Desktop/Coursera/Nursing_Home_Data\\\\COVID-19 Nursing Home Data 10.03.2021\\\\COVID-19 Nursing Home Data 10.03.2021.csv', 'C:/Users/bobom/Desktop/Coursera/Nursing_Home_Data\\\\COVID-19 Nursing Home Data 10.10.2021\\\\COVID-19 Nursing Home Data 10.10.2021.csv', 'C:/Users/bobom/Desktop/Coursera/Nursing_Home_Data\\\\COVID-19 Nursing Home Data 10.17.2021\\\\COVID-19 Nursing Home Data 10.17.2021.csv', 'C:/Users/bobom/Desktop/Coursera/Nursing_Home_Data\\\\COVID-19 Nursing Home Data 10.24.2021\\\\COVID-19 Nursing Home Data 10.24.2021.csv', 'C:/Users/bobom/Desktop/Coursera/Nursing_Home_Data\\\\COVID-19 Nursing Home Data 10.31.2021\\\\COVID-19 Nursing Home Data 10.31.2021.csv', 'C:/Users/bobom/Desktop/Coursera/Nursing_Home_Data\\\\COVID-19 Nursing Home Data 11.07.2021\\\\COVID-19 Nursing Home Data 11.07.2021.csv', 'C:/Users/bobom/Desktop/Coursera/Nursing_Home_Data\\\\COVID-19 Nursing Home Data 11.14.2021\\\\COVID-19 Nursing Home Data 11.14.2021.csv', 'C:/Users/bobom/Desktop/Coursera/Nursing_Home_Data\\\\COVID-19 Nursing Home Data 11.21.2021\\\\COVID-19 Nursing Home Data 11.21.2021.csv', 'C:/Users/bobom/Desktop/Coursera/Nursing_Home_Data\\\\COVID-19 Nursing Home Data 11.28.2021\\\\COVID-19 Nursing Home Data 11.28.2021.csv', 'C:/Users/bobom/Desktop/Coursera/Nursing_Home_Data\\\\COVID-19 Nursing Home Data 12.05.2021\\\\COVID-19 Nursing Home Data 12.05.2021.csv', 'C:/Users/bobom/Desktop/Coursera/Nursing_Home_Data\\\\COVID-19 Nursing Home Data 12.12.2021\\\\COVID-19 Nursing Home Data 12.12.2021.csv', 'C:/Users/bobom/Desktop/Coursera/Nursing_Home_Data\\\\COVID-19 Nursing Home Data 12.19.2021\\\\COVID-19 Nursing Home Data 12.19.2021.csv', 'C:/Users/bobom/Desktop/Coursera/Nursing_Home_Data\\\\COVID-19 Nursing Home Data 12.26.2021\\\\COVID-19 Nursing Home Data 12.26.2021.csv', 'C:/Users/bobom/Desktop/Coursera/Nursing_Home_Data\\\\covid-19-nursing-home-data-01.03.2021\\\\faclevel_01.03.2021.csv', 'C:/Users/bobom/Desktop/Coursera/Nursing_Home_Data\\\\covid-19-nursing-home-data-01.10.2021\\\\faclevel_01.10.2021.csv', 'C:/Users/bobom/Desktop/Coursera/Nursing_Home_Data\\\\covid-19-nursing-home-data-01.17.2021\\\\faclevel_01.17.2021.csv', 'C:/Users/bobom/Desktop/Coursera/Nursing_Home_Data\\\\covid-19-nursing-home-data-01.24.2021\\\\faclevel_01.24.2021.csv', 'C:/Users/bobom/Desktop/Coursera/Nursing_Home_Data\\\\covid-19-nursing-home-data-01.31.2021\\\\faclevel_01.31.2021.csv', 'C:/Users/bobom/Desktop/Coursera/Nursing_Home_Data\\\\covid-19-nursing-home-data-02.07.2021\\\\faclevel_02.07.2021.csv', 'C:/Users/bobom/Desktop/Coursera/Nursing_Home_Data\\\\covid-19-nursing-home-data-02.14.2021\\\\faclevel_02.14.2021.csv', 'C:/Users/bobom/Desktop/Coursera/Nursing_Home_Data\\\\covid-19-nursing-home-data-02.28.2021\\\\faclevel_02.28.2021.csv', 'C:/Users/bobom/Desktop/Coursera/Nursing_Home_Data\\\\covid-19-nursing-home-data-03.07.2021\\\\faclevel_03.07.2021.csv', 'C:/Users/bobom/Desktop/Coursera/Nursing_Home_Data\\\\covid-19-nursing-home-data-03.14.2021\\\\faclevel_03.14.2021.csv', 'C:/Users/bobom/Desktop/Coursera/Nursing_Home_Data\\\\covid-19-nursing-home-data-03.21.2021\\\\faclevel_03.21.2021.csv', 'C:/Users/bobom/Desktop/Coursera/Nursing_Home_Data\\\\covid-19-nursing-home-data-03.28.2021\\\\faclevel_03.28.2021.csv', 'C:/Users/bobom/Desktop/Coursera/Nursing_Home_Data\\\\covid-19-nursing-home-data-04.04.2021\\\\faclevel_04.04.2021.csv', 'C:/Users/bobom/Desktop/Coursera/Nursing_Home_Data\\\\covid-19-nursing-home-data-04.11.2021\\\\faclevel_04.11.2021.csv', 'C:/Users/bobom/Desktop/Coursera/Nursing_Home_Data\\\\covid-19-nursing-home-data-04.18.2021\\\\faclevel_04.18.2021.csv', 'C:/Users/bobom/Desktop/Coursera/Nursing_Home_Data\\\\covid-19-nursing-home-data-04.25.2021\\\\faclevel_04.25.2021.csv', 'C:/Users/bobom/Desktop/Coursera/Nursing_Home_Data\\\\covid-19-nursing-home-data-05-30-21\\\\faclevel_05.30.2021thru05.30.2021.csv', 'C:/Users/bobom/Desktop/Coursera/Nursing_Home_Data\\\\covid-19-nursing-home-data-05.02.2021\\\\faclevel_05.02.2021.csv', 'C:/Users/bobom/Desktop/Coursera/Nursing_Home_Data\\\\covid-19-nursing-home-data-05.09.2021\\\\faclevel_05.09.2021.csv', 'C:/Users/bobom/Desktop/Coursera/Nursing_Home_Data\\\\covid-19-nursing-home-data-05.16.2021\\\\faclevel_05.16.2021.csv', 'C:/Users/bobom/Desktop/Coursera/Nursing_Home_Data\\\\covid-19-nursing-home-data-05.23.2021\\\\faclevel_05.23.2021.csv', 'C:/Users/bobom/Desktop/Coursera/Nursing_Home_Data\\\\covid-19-nursing-home-data-05.31.2020\\\\faclevel_05.31.2020.csv', 'C:/Users/bobom/Desktop/Coursera/Nursing_Home_Data\\\\covid-19-nursing-home-data-06-06-21\\\\faclevel_06.06.2021.csv', 'C:/Users/bobom/Desktop/Coursera/Nursing_Home_Data\\\\covid-19-nursing-home-data-06-13-21\\\\faclevel_06.13.2021thru06.13.2021.csv', 'C:/Users/bobom/Desktop/Coursera/Nursing_Home_Data\\\\covid-19-nursing-home-data-06-20-21\\\\faclevel_06.20.2021thru06.20.2021.csv', 'C:/Users/bobom/Desktop/Coursera/Nursing_Home_Data\\\\covid-19-nursing-home-data-06.07.2020\\\\faclevel_06.07.2020.csv', 'C:/Users/bobom/Desktop/Coursera/Nursing_Home_Data\\\\covid-19-nursing-home-data-06.14.2020\\\\faclevel_06.14.2020.csv', 'C:/Users/bobom/Desktop/Coursera/Nursing_Home_Data\\\\covid-19-nursing-home-data-06.21.2020\\\\faclevel_06.21.2020.csv', 'C:/Users/bobom/Desktop/Coursera/Nursing_Home_Data\\\\covid-19-nursing-home-data-06.28.2020\\\\faclevel_06.28.2020.csv', 'C:/Users/bobom/Desktop/Coursera/Nursing_Home_Data\\\\covid-19-nursing-home-data-07.05.2020\\\\faclevel_07.05.2020.csv', 'C:/Users/bobom/Desktop/Coursera/Nursing_Home_Data\\\\covid-19-nursing-home-data-07.11.2021\\\\faclevel_07.18.2021thru07.11.2021.csv', 'C:/Users/bobom/Desktop/Coursera/Nursing_Home_Data\\\\covid-19-nursing-home-data-07.12.2020\\\\faclevel_07.12.2020.csv', 'C:/Users/bobom/Desktop/Coursera/Nursing_Home_Data\\\\covid-19-nursing-home-data-07.18.2021\\\\COVID-19 Nursing Home Data 07.18.2021.csv', 'C:/Users/bobom/Desktop/Coursera/Nursing_Home_Data\\\\covid-19-nursing-home-data-07.19.2020\\\\faclevel_07.19.2020.csv', 'C:/Users/bobom/Desktop/Coursera/Nursing_Home_Data\\\\covid-19-nursing-home-data-07.25.2021\\\\COVID-19 Nursing Home Data 07.25.2021.csv', 'C:/Users/bobom/Desktop/Coursera/Nursing_Home_Data\\\\covid-19-nursing-home-data-07.26.2020\\\\faclevel_07.26.2020.csv', 'C:/Users/bobom/Desktop/Coursera/Nursing_Home_Data\\\\covid-19-nursing-home-data-08.01.2021\\\\COVID-19 Nursing Home Data 08.01.2021.csv', 'C:/Users/bobom/Desktop/Coursera/Nursing_Home_Data\\\\covid-19-nursing-home-data-08.02.2020\\\\faclevel_08.02.2020.csv', 'C:/Users/bobom/Desktop/Coursera/Nursing_Home_Data\\\\covid-19-nursing-home-data-08.09.2020\\\\faclevel_08.09.2020.csv', 'C:/Users/bobom/Desktop/Coursera/Nursing_Home_Data\\\\covid-19-nursing-home-data-08.16.2020\\\\faclevel_08.16.2020.csv', 'C:/Users/bobom/Desktop/Coursera/Nursing_Home_Data\\\\covid-19-nursing-home-data-08.23.2020\\\\faclevel_08.23.2020.csv', 'C:/Users/bobom/Desktop/Coursera/Nursing_Home_Data\\\\covid-19-nursing-home-data-08.30.2020\\\\faclevel_08.30.2020.csv', 'C:/Users/bobom/Desktop/Coursera/Nursing_Home_Data\\\\covid-19-nursing-home-data-09.06.2020\\\\faclevel_09.06.2020.csv', 'C:/Users/bobom/Desktop/Coursera/Nursing_Home_Data\\\\covid-19-nursing-home-data-09.13.2020\\\\faclevel_09.13.2020.csv', 'C:/Users/bobom/Desktop/Coursera/Nursing_Home_Data\\\\covid-19-nursing-home-data-09.20.2020\\\\faclevel_09.20.2020.csv', 'C:/Users/bobom/Desktop/Coursera/Nursing_Home_Data\\\\covid-19-nursing-home-data-09.27.2020\\\\faclevel_09.27.2020.csv', 'C:/Users/bobom/Desktop/Coursera/Nursing_Home_Data\\\\covid-19-nursing-home-data-10.04.2020\\\\faclevel_10.04.2020.csv', 'C:/Users/bobom/Desktop/Coursera/Nursing_Home_Data\\\\covid-19-nursing-home-data-10.11.2020\\\\faclevel_10.11.2020.csv', 'C:/Users/bobom/Desktop/Coursera/Nursing_Home_Data\\\\covid-19-nursing-home-data-10.18.2020\\\\faclevel_10.18.2020.csv', 'C:/Users/bobom/Desktop/Coursera/Nursing_Home_Data\\\\covid-19-nursing-home-data-10.25.2020\\\\faclevel_10.25.2020.csv', 'C:/Users/bobom/Desktop/Coursera/Nursing_Home_Data\\\\covid-19-nursing-home-data-11.01.2020\\\\faclevel_11.01.2020.csv', 'C:/Users/bobom/Desktop/Coursera/Nursing_Home_Data\\\\covid-19-nursing-home-data-11.08.2020\\\\faclevel_11.08.2020.csv', 'C:/Users/bobom/Desktop/Coursera/Nursing_Home_Data\\\\covid-19-nursing-home-data-11.15.2020\\\\faclevel_11.15.2020.csv', 'C:/Users/bobom/Desktop/Coursera/Nursing_Home_Data\\\\covid-19-nursing-home-data-11.22.2020\\\\faclevel_11.22.2020.csv', 'C:/Users/bobom/Desktop/Coursera/Nursing_Home_Data\\\\covid-19-nursing-home-data-11.29.2020\\\\faclevel_11.29.2020.csv', 'C:/Users/bobom/Desktop/Coursera/Nursing_Home_Data\\\\covid-19-nursing-home-data-12.06.2020\\\\faclevel_12.06.2020.csv', 'C:/Users/bobom/Desktop/Coursera/Nursing_Home_Data\\\\covid-19-nursing-home-data-12.13.2020\\\\faclevel_12.13.2020.csv', 'C:/Users/bobom/Desktop/Coursera/Nursing_Home_Data\\\\covid-19-nursing-home-data-12.20.2020\\\\faclevel_12.20.2020.csv', 'C:/Users/bobom/Desktop/Coursera/Nursing_Home_Data\\\\covid-19-nursing-home-data-12.27.2020\\\\faclevel_12.27.2020.csv']\n"
     ]
    }
   ],
   "source": [
    "print(nursing_files)"
   ]
  },
  {
   "cell_type": "code",
   "execution_count": null,
   "id": "fd70463d",
   "metadata": {},
   "outputs": [],
   "source": []
  }
 ],
 "metadata": {
  "kernelspec": {
   "display_name": "Python 3 (ipykernel)",
   "language": "python",
   "name": "python3"
  },
  "language_info": {
   "codemirror_mode": {
    "name": "ipython",
    "version": 3
   },
   "file_extension": ".py",
   "mimetype": "text/x-python",
   "name": "python",
   "nbconvert_exporter": "python",
   "pygments_lexer": "ipython3",
   "version": "3.9.7"
  }
 },
 "nbformat": 4,
 "nbformat_minor": 5
}
