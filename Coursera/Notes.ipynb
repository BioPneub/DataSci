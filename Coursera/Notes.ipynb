{
 "cells": [
  {
   "cell_type": "code",
   "execution_count": 2,
   "id": "0ffa66dc",
   "metadata": {},
   "outputs": [],
   "source": [
    "\n",
    "#Notes up until Week 3 (Functions) of the Coursera IBM Python for Data Science Course.\n",
    "#Just practicing all the things I've learned up until now.\n"
   ]
  },
  {
   "cell_type": "code",
   "execution_count": 4,
   "id": "178e8945",
   "metadata": {},
   "outputs": [
    {
     "name": "stdout",
     "output_type": "stream",
     "text": [
      "Hello 0\n",
      "Cruel 1\n",
      "World 2\n"
     ]
    }
   ],
   "source": [
    "def lister(lists):\n",
    "    \"\"\"\n",
    "    Lists a list\n",
    "    \"\"\"\n",
    "    for i,item in enumerate(lists):\n",
    "        print(item, i)\n",
    "        \n",
    "list1 = [\"Hello\", \"Cruel\", \"World\"]\n",
    "\n",
    "lister(list1)"
   ]
  },
  {
   "cell_type": "code",
   "execution_count": null,
   "id": "dc73e58e",
   "metadata": {},
   "outputs": [],
   "source": []
  }
 ],
 "metadata": {
  "kernelspec": {
   "display_name": "Python 3 (ipykernel)",
   "language": "python",
   "name": "python3"
  },
  "language_info": {
   "codemirror_mode": {
    "name": "ipython",
    "version": 3
   },
   "file_extension": ".py",
   "mimetype": "text/x-python",
   "name": "python",
   "nbconvert_exporter": "python",
   "pygments_lexer": "ipython3",
   "version": "3.9.7"
  }
 },
 "nbformat": 4,
 "nbformat_minor": 5
}
